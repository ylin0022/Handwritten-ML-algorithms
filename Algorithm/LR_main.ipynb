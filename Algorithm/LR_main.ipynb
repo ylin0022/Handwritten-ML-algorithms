{
 "cells": [
  {
   "cell_type": "code",
   "execution_count": 1,
   "metadata": {},
   "outputs": [
    {
     "name": "stdout",
     "output_type": "stream",
     "text": [
      "Wall time: 1min 2s\n"
     ]
    }
   ],
   "source": [
    "%%time\n",
    "import h5py\n",
    "import numpy as np\n",
    "import math\n",
    "import matplotlib.pyplot  as pl\n",
    "with h5py.File('../Input/images_training.h5','r') as H:\n",
    "    data = np.copy(H['data']) #shape (30000, 28, 28)\n",
    "with h5py.File('../Input/labels_training.h5','r') as H:\n",
    "    label = np.copy(H['label']) #shape (30000, )\n",
    "with h5py.File('../Input/images_testing.h5','r') as H:\n",
    "    datatest = np.copy(H['data']) #shape (30000, 28, 28)\n",
    "with h5py.File('../Input/labels_testing_2000.h5','r') as H:\n",
    "    labeltest = np.copy(H['label']) #shape (30000, )\n",
    "data = data.reshape(len(data), -1)\n",
    "datatest = datatest.reshape(len(datatest), -1)\n",
    "%run preprocessing.py\n",
    "standard = StandardScaler()\n",
    "standard.fit(data)\n",
    "data = standard.transform(data)\n",
    "datatest = standard.transform(datatest)\n",
    "%run PCA.py\n",
    "pca = PCA(n_components = 185) #80:40%, 60:38%, 40:37.65%, 100:43.85%, 110:44.05%, 112:44.25%, 113:44.3%, 114:44.25%, 115:44.55%,116:44.05%, 117:44.4%,118:44.05%, 120: 29.8%\n",
    "pca.fit(data)\n",
    "data_PCA = pca.transform(data)\n",
    "datatest_PCA = pca.transform(datatest)"
   ]
  },
  {
   "cell_type": "code",
   "execution_count": 2,
   "metadata": {},
   "outputs": [],
   "source": [
    "with h5py.File(\"../Input/data_PCA.h5\", \"w\") as f:\n",
    "     f.create_dataset(\"data_PCA\", data=data_PCA)\n",
    "with h5py.File(\"../Input/datatest_PCA.h5\", \"w\") as f:\n",
    "     f.create_dataset(\"datatest_PCA\", data=datatest_PCA)   "
   ]
  },
  {
   "cell_type": "code",
   "execution_count": 3,
   "metadata": {},
   "outputs": [],
   "source": [
    "import h5py\n",
    "import numpy as np\n",
    "import math\n",
    "import matplotlib.pyplot  as pl\n",
    "with h5py.File('../Input/data_PCA.h5','r') as H:\n",
    "    data_PCA = np.copy(H['data_PCA']) #shape (30000, n)\n",
    "with h5py.File('../Input/labels_training.h5','r') as H:\n",
    "    label = np.copy(H['label']) #shape (30000, )\n",
    "with h5py.File('../Input/datatest_PCA.h5','r') as H:\n",
    "    datatest_PCA = np.copy(H['datatest_PCA']) #shape (30000, n)\n",
    "with h5py.File('../Input/labels_testing_2000.h5','r') as H:\n",
    "    labeltest = np.copy(H['label']) #shape (30000, )"
   ]
  },
  {
   "cell_type": "code",
   "execution_count": 4,
   "metadata": {},
   "outputs": [
    {
     "name": "stdout",
     "output_type": "stream",
     "text": [
      "Wall time: 3.99 ms\n"
     ]
    }
   ],
   "source": [
    "%%time\n",
    "%run LR.py\n",
    "# PCA=115\n",
    "\n",
    "# lr = LR(10,1,0.000005,400) 82\n",
    "# lr = LR(10,1,0.000005,100) 78.95\n",
    "# lr = LR(10,1,0.000005,200) 78.95\n",
    "# lr = LR(10,1,0.000005,300) 81.4\n",
    "# lr = LR(10,1,0.000005,400) 81.4 1m4\n",
    "# lr = LR(10,1,0.000005,500) 81.6 1m48\n",
    "# lr = LR(10,1,0.000005,600) 81.6 1m48\n",
    "# lr = LR(10,1,0.000005,700) 81.95 2m32\n",
    "# lr = LR(10,1,0.000005,800) 82.05 2m49\n",
    "# lr = LR(10,1,0.000005,900) 82.05 3m5\n",
    "# lr = LR(10,1,0.000005,1000) 82 3m40\n",
    "\n",
    "# PCA=60\n",
    "# lr = LR(10,1,0.000005,400) 79.75 49.4s\n",
    "\n",
    "# PCA=160\n",
    "# lr = LR(10,1,0.000005,400) 82.25 1m57\n",
    "\n",
    "# PCA=170\n",
    "# lr = LR(10,1,0.000005,400) 82.3 2m10\n",
    "\n",
    "# PCA=185\n",
    "# lr = LR(10,1,0.000005,400)82.55 2m21\n",
    "# lr = LR(10,1,0.000005,800) 83 4m39\n",
    "\n",
    "# PCA=190\n",
    "lr = LR(10,1,0.000005,400) #82.75%\n",
    "# lr = LR(10,1,0.000005,800) 83.25% 4m49\n",
    "\n",
    "# PCA=200\n",
    "# lr = LR(10,1,0.000005,400) 82.50 2m30\n",
    "\n",
    "# PCA=220\n",
    "# lr = LR(10,1,0.000005,400) 82.35 2m47"
   ]
  },
  {
   "cell_type": "code",
   "execution_count": 5,
   "metadata": {},
   "outputs": [
    {
     "name": "stdout",
     "output_type": "stream",
     "text": [
      "Wall time: 2min 8s\n"
     ]
    }
   ],
   "source": [
    "%%time\n",
    "lr.fit(data_PCA,label)"
   ]
  },
  {
   "cell_type": "code",
   "execution_count": 6,
   "metadata": {},
   "outputs": [
    {
     "name": "stdout",
     "output_type": "stream",
     "text": [
      "Accuracy:  82.55000%\n",
      "Wall time: 42.9 ms\n"
     ]
    }
   ],
   "source": [
    "%%time\n",
    "class_out = lr.predict(datatest_PCA[0:2000])\n",
    "correct=np.sum(class_out==labeltest)\n",
    "print(\"Accuracy:  %8.5f%%\" %(100*correct/2000))"
   ]
  },
  {
   "cell_type": "markdown",
   "metadata": {},
   "source": [
    "## Confusion Matrix"
   ]
  },
  {
   "cell_type": "code",
   "execution_count": 7,
   "metadata": {},
   "outputs": [],
   "source": [
    "cm = np.zeros((10, 10), dtype='int')\n",
    "for i in range(10): #prediction of each class，rows in the matrix\n",
    "    for j in range(10): #real label of each class, columns in the matrix\n",
    "        cm[j][i] = np.sum((class_out == i) & (labeltest == j))"
   ]
  },
  {
   "cell_type": "code",
   "execution_count": 8,
   "metadata": {},
   "outputs": [
    {
     "data": {
      "text/plain": [
       "array([[145,   1,   2,  12,   0,   1,  14,   0,   3,   0],\n",
       "       [  0, 185,   1,   5,   0,   0,   0,   0,   0,   0],\n",
       "       [  5,   0, 153,   1,  32,   3,  13,   0,   3,   0],\n",
       "       [  5,   2,   3, 167,   7,   4,   2,   0,   1,   0],\n",
       "       [  0,   2,  22,   9, 160,   1,  16,   0,   2,   0],\n",
       "       [  1,   0,   0,   1,   0, 184,   0,  12,   2,  14],\n",
       "       [ 27,   0,  29,  13,  31,   2,  95,   0,   3,   0],\n",
       "       [  0,   0,   0,   0,   0,   9,   0, 181,   0,   8],\n",
       "       [  1,   2,   1,   3,   1,   2,   2,   2, 204,   1],\n",
       "       [  0,   0,   0,   0,   0,   4,   1,   5,   0, 177]])"
      ]
     },
     "execution_count": 8,
     "metadata": {},
     "output_type": "execute_result"
    }
   ],
   "source": [
    "cm # show Confusion Matrix"
   ]
  },
  {
   "cell_type": "code",
   "execution_count": 9,
   "metadata": {},
   "outputs": [
    {
     "data": {
      "image/png": "[encoded data removed]",
      "text/plain": [
       "<Figure size 288x288 with 1 Axes>"
      ]
     },
     "metadata": {},
     "output_type": "display_data"
    }
   ],
   "source": [
    "# visualization\n",
    "import matplotlib.pyplot as plt\n",
    "plt.matshow(cm, cmap=plt.cm.gray)\n",
    "plt.show()\n",
    "#present in gray value, bigger values are brighter"
   ]
  },
  {
   "cell_type": "code",
   "execution_count": 10,
   "metadata": {},
   "outputs": [
    {
     "data": {
      "image/png": "[encoded data removed]",
      "text/plain": [
       "<Figure size 432x288 with 1 Axes>"
      ]
     },
     "metadata": {},
     "output_type": "display_data"
    }
   ],
   "source": [
    "#another way to visulize\n",
    "fig, ax = plt.subplots()\n",
    "im = ax.imshow(cm)\n",
    "for i in range(10):\n",
    "    for j in range(10):\n",
    "        text = ax.text(j, i, cm[i][j], ha='center', va='center', color='w')\n",
    "fig.tight_layout()\n",
    "plt.show()"
   ]
  },
  {
   "cell_type": "markdown",
   "metadata": {},
   "source": [
    "## Error rate Matrix"
   ]
  },
  {
   "cell_type": "code",
   "execution_count": 11,
   "metadata": {},
   "outputs": [],
   "source": [
    "error_matrix = cm / np.sum(cm, axis=1)\n",
    "np.fill_diagonal(error_matrix, 0)\n",
    "#error_matrix: the bigger value means more wrong predictions"
   ]
  },
  {
   "cell_type": "code",
   "execution_count": 12,
   "metadata": {},
   "outputs": [
    {
     "data": {
      "text/plain": [
       "array([[0.        , 0.0052356 , 0.00952381, 0.06282723, 0.        ,\n",
       "        0.0046729 , 0.07      , 0.        , 0.01369863, 0.        ],\n",
       "       [0.        , 0.        , 0.0047619 , 0.02617801, 0.        ,\n",
       "        0.        , 0.        , 0.        , 0.        , 0.        ],\n",
       "       [0.02808989, 0.        , 0.        , 0.0052356 , 0.1509434 ,\n",
       "        0.01401869, 0.065     , 0.        , 0.01369863, 0.        ],\n",
       "       [0.02808989, 0.0104712 , 0.01428571, 0.        , 0.03301887,\n",
       "        0.01869159, 0.01      , 0.        , 0.00456621, 0.        ],\n",
       "       [0.        , 0.0104712 , 0.1047619 , 0.04712042, 0.        ,\n",
       "        0.0046729 , 0.08      , 0.        , 0.00913242, 0.        ],\n",
       "       [0.00561798, 0.        , 0.        , 0.0052356 , 0.        ,\n",
       "        0.        , 0.        , 0.06060606, 0.00913242, 0.07486631],\n",
       "       [0.15168539, 0.        , 0.13809524, 0.06806283, 0.14622642,\n",
       "        0.00934579, 0.        , 0.        , 0.01369863, 0.        ],\n",
       "       [0.        , 0.        , 0.        , 0.        , 0.        ,\n",
       "        0.04205607, 0.        , 0.        , 0.        , 0.04278075],\n",
       "       [0.00561798, 0.0104712 , 0.0047619 , 0.01570681, 0.00471698,\n",
       "        0.00934579, 0.01      , 0.01010101, 0.        , 0.00534759],\n",
       "       [0.        , 0.        , 0.        , 0.        , 0.        ,\n",
       "        0.01869159, 0.005     , 0.02525253, 0.        , 0.        ]])"
      ]
     },
     "execution_count": 12,
     "metadata": {},
     "output_type": "execute_result"
    }
   ],
   "source": [
    "error_matrix"
   ]
  },
  {
   "cell_type": "code",
   "execution_count": 13,
   "metadata": {},
   "outputs": [
    {
     "data": {
      "image/png": "[encoded data removed]",
      "text/plain": [
       "<Figure size 288x288 with 1 Axes>"
      ]
     },
     "metadata": {},
     "output_type": "display_data"
    }
   ],
   "source": [
    "# visualization\n",
    "import matplotlib.pyplot as plt\n",
    "plt.matshow(error_matrix, cmap=plt.cm.gray)\n",
    "plt.show()\n",
    "#present in gray value, bigger values are brighter"
   ]
  },
  {
   "cell_type": "markdown",
   "metadata": {},
   "source": [
    "#### So we can see that the 0th: 'T-shirt/top' were oftern wrongly predicted as the 6th: 'Shirt', while actually  they are similar   \n",
    "#### and the 4th class 'Coat' were oftern wrongly predicted as the 2th:'Pullover' and the 6th :Shirt"
   ]
  }
 ],
 "metadata": {
  "kernelspec": {
   "display_name": "Python 3",
   "language": "python",
   "name": "python3"
  },
  "language_info": {
   "codemirror_mode": {
    "name": "ipython",
    "version": 3
   },
   "file_extension": ".py",
   "mimetype": "text/x-python",
   "name": "python",
   "nbconvert_exporter": "python",
   "pygments_lexer": "ipython3",
   "version": "3.6.6"
  }
 },
 "nbformat": 4,
 "nbformat_minor": 2
}
