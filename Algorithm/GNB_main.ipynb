{
 "cells": [
  {
   "cell_type": "code",
   "execution_count": 30,
   "metadata": {},
   "outputs": [
    {
     "name": "stdout",
     "output_type": "stream",
     "text": [
      "Wall time: 1min 3s\n"
     ]
    }
   ],
   "source": [
    "%%time\n",
    "import h5py\n",
    "import numpy as np\n",
    "import math\n",
    "import matplotlib.pyplot  as pl\n",
    "with h5py.File('../Input/images_training.h5','r') as H:\n",
    "    data = np.copy(H['data']) #shape (30000, 28, 28)\n",
    "with h5py.File('../Input/labels_training.h5','r') as H:\n",
    "    label = np.copy(H['label']) #shape (30000, )\n",
    "with h5py.File('../Input/images_testing.h5','r') as H:\n",
    "    datatest = np.copy(H['data']) #shape (30000, 28, 28)\n",
    "with h5py.File('../Input/labels_testing_2000.h5','r') as H:\n",
    "    labeltest = np.copy(H['label']) #shape (30000, )\n",
    "data = data.reshape(len(data), -1)\n",
    "datatest = datatest.reshape(len(datatest), -1)\n",
    "%run preprocessing.py\n",
    "standard = StandardScaler()\n",
    "standard.fit(data)\n",
    "data = standard.transform(data)\n",
    "datatest = standard.transform(datatest)\n",
    "%run PCA.py\n",
    "pca = PCA(n_components = 115) #80:40%, 60:38%, 40:37.65%, 100:43.85%, 110:44.05%, 112:44.25%, 113:44.3%, 114:44.25%, 115:44.55%,116:44.05%, 117:44.4%,118:44.05%, 120: 29.8%\n",
    "pca.fit(data)\n",
    "data_PCA = pca.transform(data)\n",
    "datatest_PCA = pca.transform(datatest)"
   ]
  },
  {
   "cell_type": "code",
   "execution_count": 31,
   "metadata": {},
   "outputs": [],
   "source": [
    "with h5py.File(\"../Input/data_PCA.h5\", \"w\") as f:\n",
    "     f.create_dataset(\"data_PCA\", data=data_PCA)\n",
    "with h5py.File(\"../Input/datatest_PCA.h5\", \"w\") as f:\n",
    "     f.create_dataset(\"datatest_PCA\", data=datatest_PCA)   "
   ]
  },
  {
   "cell_type": "code",
   "execution_count": 32,
   "metadata": {},
   "outputs": [],
   "source": [
    "import h5py\n",
    "import numpy as np\n",
    "import math\n",
    "import matplotlib.pyplot  as pl\n",
    "with h5py.File('../Input/data_PCA.h5','r') as H:\n",
    "    data_PCA = np.copy(H['data_PCA']) #shape (30000, n)\n",
    "with h5py.File('../Input/labels_training.h5','r') as H:\n",
    "    label = np.copy(H['label']) #shape (30000, )\n",
    "with h5py.File('../Input/datatest_PCA.h5','r') as H:\n",
    "    datatest_PCA = np.copy(H['datatest_PCA']) #shape (30000, n)\n",
    "with h5py.File('../Input/labels_testing_2000.h5','r') as H:\n",
    "    labeltest = np.copy(H['label']) #shape (30000, )"
   ]
  },
  {
   "cell_type": "code",
   "execution_count": 33,
   "metadata": {},
   "outputs": [
    {
     "name": "stdout",
     "output_type": "stream",
     "text": [
      "Wall time: 1.99 ms\n"
     ]
    }
   ],
   "source": [
    "%%time\n",
    "%run GNB.py\n",
    "gnb = GNB(10)"
   ]
  },
  {
   "cell_type": "code",
   "execution_count": 34,
   "metadata": {},
   "outputs": [
    {
     "name": "stdout",
     "output_type": "stream",
     "text": [
      "Wall time: 61.8 ms\n"
     ]
    }
   ],
   "source": [
    "%%time\n",
    "gnb.fit(data_PCA,label)"
   ]
  },
  {
   "cell_type": "code",
   "execution_count": 35,
   "metadata": {},
   "outputs": [
    {
     "name": "stdout",
     "output_type": "stream",
     "text": [
      "Accuracy:  44.55000%\n",
      "Wall time: 10.7 s\n"
     ]
    }
   ],
   "source": [
    "%%time\n",
    "\n",
    "class_out = gnb.predict(datatest_PCA[0:2000])\n",
    "\n",
    "correct=np.sum(class_out==labeltest)\n",
    "\n",
    "print(\"Accuracy:  %8.5f%%\" %(100*correct/2000))\n"
   ]
  },
  {
   "cell_type": "markdown",
   "metadata": {},
   "source": [
    "## Confusion Matrix"
   ]
  },
  {
   "cell_type": "code",
   "execution_count": 36,
   "metadata": {
    "scrolled": true
   },
   "outputs": [],
   "source": [
    "cm = np.zeros((10, 10), dtype='int')\n",
    "for i in range(10): #prediction of each class，rows in the matrix\n",
    "    for j in range(10): #real label of each class, columns in the matrix\n",
    "        cm[j][i] = np.sum((class_out==i) & (labeltest == j))"
   ]
  },
  {
   "cell_type": "code",
   "execution_count": 37,
   "metadata": {
    "scrolled": true
   },
   "outputs": [
    {
     "data": {
      "text/plain": [
       "array([[ 64,   5,   4,  26,  24,  19,   5,  25,   2,   4],\n",
       "       [  3, 141,   3,  24,   0,  19,   1,   0,   0,   0],\n",
       "       [ 25,   5,  59,  32,  51,  25,   3,   6,   1,   3],\n",
       "       [  3,  10,   1, 162,   4,   7,   1,   3,   0,   0],\n",
       "       [ 12,   3,  23,  36, 119,  10,   3,   3,   1,   2],\n",
       "       [  1,   0,   0,   7,   0, 127,   0,  71,   2,   6],\n",
       "       [ 15,  15,   9,  49,  54,  25,  11,  16,   6,   0],\n",
       "       [  0,   0,   0,   0,   0,  37,   0, 161,   0,   0],\n",
       "       [ 28,   0,   6,   4,   9, 109,   7,   2,  24,  30],\n",
       "       [  8,   0,   0,   2,   0,  99,   3,  46,   6,  23]])"
      ]
     },
     "execution_count": 37,
     "metadata": {},
     "output_type": "execute_result"
    }
   ],
   "source": [
    "cm # show Confusion Matrix"
   ]
  },
  {
   "cell_type": "code",
   "execution_count": 38,
   "metadata": {},
   "outputs": [
    {
     "data": {
      "image/png": "[encoded data removed]",
      "text/plain": [
       "<Figure size 288x288 with 1 Axes>"
      ]
     },
     "metadata": {},
     "output_type": "display_data"
    }
   ],
   "source": [
    "# visualization\n",
    "import matplotlib.pyplot as plt\n",
    "plt.matshow(cm, cmap=plt.cm.gray)\n",
    "plt.show()\n",
    "#present in gray value, bigger values are brighter"
   ]
  },
  {
   "cell_type": "code",
   "execution_count": 39,
   "metadata": {
    "scrolled": true
   },
   "outputs": [
    {
     "data": {
      "image/png": "[encoded data removed]",
      "text/plain": [
       "<Figure size 432x288 with 1 Axes>"
      ]
     },
     "metadata": {},
     "output_type": "display_data"
    }
   ],
   "source": [
    "#another way to visulize with exact numbers\n",
    "fig, ax = plt.subplots()\n",
    "im = ax.imshow(cm)\n",
    "for i in range(10):\n",
    "    for j in range(10):\n",
    "        text = ax.text(j, i, cm[i][j], ha='center', va='center', color='w')\n",
    "fig.tight_layout()\n",
    "plt.show()"
   ]
  },
  {
   "cell_type": "markdown",
   "metadata": {},
   "source": [
    "## Error rate Matrix"
   ]
  },
  {
   "cell_type": "code",
   "execution_count": 40,
   "metadata": {
    "scrolled": true
   },
   "outputs": [],
   "source": [
    "error_matrix = cm / np.sum(cm, axis=1)\n",
    "np.fill_diagonal(error_matrix, 0)\n",
    "#error_matrix: the bigger value means more wrong predictions"
   ]
  },
  {
   "cell_type": "code",
   "execution_count": 41,
   "metadata": {},
   "outputs": [
    {
     "data": {
      "text/plain": [
       "array([[0.        , 0.02617801, 0.01904762, 0.13612565, 0.11320755,\n",
       "        0.08878505, 0.025     , 0.12626263, 0.00913242, 0.02139037],\n",
       "       [0.01685393, 0.        , 0.01428571, 0.12565445, 0.        ,\n",
       "        0.08878505, 0.005     , 0.        , 0.        , 0.        ],\n",
       "       [0.14044944, 0.02617801, 0.        , 0.16753927, 0.24056604,\n",
       "        0.11682243, 0.015     , 0.03030303, 0.00456621, 0.01604278],\n",
       "       [0.01685393, 0.05235602, 0.0047619 , 0.        , 0.01886792,\n",
       "        0.03271028, 0.005     , 0.01515152, 0.        , 0.        ],\n",
       "       [0.06741573, 0.01570681, 0.10952381, 0.18848168, 0.        ,\n",
       "        0.04672897, 0.015     , 0.01515152, 0.00456621, 0.01069519],\n",
       "       [0.00561798, 0.        , 0.        , 0.03664921, 0.        ,\n",
       "        0.        , 0.        , 0.35858586, 0.00913242, 0.03208556],\n",
       "       [0.08426966, 0.07853403, 0.04285714, 0.2565445 , 0.25471698,\n",
       "        0.11682243, 0.        , 0.08080808, 0.02739726, 0.        ],\n",
       "       [0.        , 0.        , 0.        , 0.        , 0.        ,\n",
       "        0.1728972 , 0.        , 0.        , 0.        , 0.        ],\n",
       "       [0.15730337, 0.        , 0.02857143, 0.02094241, 0.04245283,\n",
       "        0.50934579, 0.035     , 0.01010101, 0.        , 0.16042781],\n",
       "       [0.04494382, 0.        , 0.        , 0.0104712 , 0.        ,\n",
       "        0.46261682, 0.015     , 0.23232323, 0.02739726, 0.        ]])"
      ]
     },
     "execution_count": 41,
     "metadata": {},
     "output_type": "execute_result"
    }
   ],
   "source": [
    "error_matrix"
   ]
  },
  {
   "cell_type": "code",
   "execution_count": 42,
   "metadata": {
    "scrolled": false
   },
   "outputs": [
    {
     "data": {
      "image/png": "[encoded data removed]",
      "text/plain": [
       "<Figure size 288x288 with 1 Axes>"
      ]
     },
     "metadata": {},
     "output_type": "display_data"
    }
   ],
   "source": [
    "# visualization\n",
    "import matplotlib.pyplot as plt\n",
    "plt.matshow(error_matrix, cmap=plt.cm.gray)\n",
    "plt.show()\n",
    "#present in gray value, bigger values are brighter"
   ]
  },
  {
   "cell_type": "markdown",
   "metadata": {},
   "source": [
    "#### So we can see that GNB is really weak in predicting the 5th: 'Sandal' because they were oftern predicted as the 8, 9th classes: 'Bag' and 'Ankle boot'"
   ]
  }
 ],
 "metadata": {
  "kernelspec": {
   "display_name": "Python 3",
   "language": "python",
   "name": "python3"
  },
  "language_info": {
   "codemirror_mode": {
    "name": "ipython",
    "version": 3
   },
   "file_extension": ".py",
   "mimetype": "text/x-python",
   "name": "python",
   "nbconvert_exporter": "python",
   "pygments_lexer": "ipython3",
   "version": "3.6.6"
  }
 },
 "nbformat": 4,
 "nbformat_minor": 2
}
